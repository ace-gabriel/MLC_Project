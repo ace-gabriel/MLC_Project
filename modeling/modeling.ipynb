{
 "cells": [
  {
   "cell_type": "code",
   "execution_count": 1,
   "metadata": {},
   "outputs": [],
   "source": [
    "import pandas as pd \n",
    "import numpy as np\n",
    "import matplotlib.pyplot as plt\n",
    "from sklearn import preprocessing"
   ]
  },
  {
   "cell_type": "code",
   "execution_count": 2,
   "metadata": {},
   "outputs": [],
   "source": [
    "data = pd.read_csv(\"2014_nyc_taxi_trips_neighbor_final.csv\")"
   ]
  },
  {
   "cell_type": "code",
   "execution_count": 4,
   "metadata": {},
   "outputs": [
    {
     "name": "stderr",
     "output_type": "stream",
     "text": [
      "/anaconda3/lib/python3.6/site-packages/matplotlib/axes/_axes.py:6521: MatplotlibDeprecationWarning: \n",
      "The 'normed' kwarg was deprecated in Matplotlib 2.1 and will be removed in 3.1. Use 'density' instead.\n",
      "  alternative=\"'density'\", removal=\"3.1\")\n"
     ]
    },
    {
     "data": {
      "image/png": "[encoded data removed]",
      "text/plain": [
       "<Figure size 432x288 with 1 Axes>"
      ]
     },
     "metadata": {
      "needs_background": "light"
     },
     "output_type": "display_data"
    }
   ],
   "source": [
    "n, bins, patches = plt.hist(data.fare_amount, 50, normed=1, facecolor='green', alpha=0.75)"
   ]
  },
  {
   "cell_type": "code",
   "execution_count": 29,
   "metadata": {},
   "outputs": [
    {
     "data": {
      "text/plain": [
       "<matplotlib.collections.PathCollection at 0x1da2c6898>"
      ]
     },
     "execution_count": 29,
     "metadata": {},
     "output_type": "execute_result"
    },
    {
     "data": {
      "image/png": "[encoded data removed]",
      "text/plain": [
       "<Figure size 720x432 with 1 Axes>"
      ]
     },
     "metadata": {
      "needs_background": "light"
     },
     "output_type": "display_data"
    }
   ],
   "source": [
    "plt.figure(figsize=(10,6))\n",
    "plt.scatter(data.distance, data.fare_amount)"
   ]
  },
  {
   "cell_type": "code",
   "execution_count": 3,
   "metadata": {},
   "outputs": [],
   "source": [
    "# function to remove outlier \n",
    "def remove_outlier(df, var):\n",
    "    # find Q1 and Q3 and IQR\n",
    "    Q1, Q3 = df[var].quantile(0.25), df[var].quantile(0.75)\n",
    "    IQR = Q3 - Q1\n",
    "    lower, upper = Q1 - 1.5 * IQR, Q3 + 1.5 * IQR\n",
    "    # find the data within desired range\n",
    "    df = df[(df[var] >= lower) & (df[var] <= upper)]\n",
    "    return df\n",
    "\n",
    "data_cleaned = remove_outlier(data, 'fare_amount')"
   ]
  },
  {
   "cell_type": "code",
   "execution_count": 4,
   "metadata": {},
   "outputs": [],
   "source": [
    "data_cleaned = data_cleaned[['fare_amount', 'passenger_count', 'weekday', 'weekend', 'day_night', 'distance', 'tripPerHour','holiday', 'neighborhood','datekey']]"
   ]
  },
  {
   "cell_type": "code",
   "execution_count": 117,
   "metadata": {},
   "outputs": [
    {
     "data": {
      "text/html": [
       "<div>\n",
       "<style scoped>\n",
       "    .dataframe tbody tr th:only-of-type {\n",
       "        vertical-align: middle;\n",
       "    }\n",
       "\n",
       "    .dataframe tbody tr th {\n",
       "        vertical-align: top;\n",
       "    }\n",
       "\n",
       "    .dataframe thead th {\n",
       "        text-align: right;\n",
       "    }\n",
       "</style>\n",
       "<table border=\"1\" class=\"dataframe\">\n",
       "  <thead>\n",
       "    <tr style=\"text-align: right;\">\n",
       "      <th></th>\n",
       "      <th>fare_amount</th>\n",
       "      <th>passenger_count</th>\n",
       "      <th>weekday</th>\n",
       "      <th>weekend</th>\n",
       "      <th>day_night</th>\n",
       "      <th>distance</th>\n",
       "      <th>tripPerHour</th>\n",
       "      <th>holiday</th>\n",
       "    </tr>\n",
       "  </thead>\n",
       "  <tbody>\n",
       "    <tr>\n",
       "      <th>fare_amount</th>\n",
       "      <td>1.000000</td>\n",
       "      <td>0.012281</td>\n",
       "      <td>0.010500</td>\n",
       "      <td>-0.003992</td>\n",
       "      <td>-0.038432</td>\n",
       "      <td>0.839793</td>\n",
       "      <td>0.006042</td>\n",
       "      <td>-0.011842</td>\n",
       "    </tr>\n",
       "    <tr>\n",
       "      <th>passenger_count</th>\n",
       "      <td>0.012281</td>\n",
       "      <td>1.000000</td>\n",
       "      <td>0.026312</td>\n",
       "      <td>0.029125</td>\n",
       "      <td>-0.023111</td>\n",
       "      <td>0.007143</td>\n",
       "      <td>0.017930</td>\n",
       "      <td>0.004725</td>\n",
       "    </tr>\n",
       "    <tr>\n",
       "      <th>weekday</th>\n",
       "      <td>0.010500</td>\n",
       "      <td>0.026312</td>\n",
       "      <td>1.000000</td>\n",
       "      <td>0.786019</td>\n",
       "      <td>-0.092909</td>\n",
       "      <td>0.039282</td>\n",
       "      <td>0.024704</td>\n",
       "      <td>-0.086888</td>\n",
       "    </tr>\n",
       "    <tr>\n",
       "      <th>weekend</th>\n",
       "      <td>-0.003992</td>\n",
       "      <td>0.029125</td>\n",
       "      <td>0.786019</td>\n",
       "      <td>1.000000</td>\n",
       "      <td>-0.087307</td>\n",
       "      <td>0.046943</td>\n",
       "      <td>-0.037045</td>\n",
       "      <td>-0.056646</td>\n",
       "    </tr>\n",
       "    <tr>\n",
       "      <th>day_night</th>\n",
       "      <td>-0.038432</td>\n",
       "      <td>-0.023111</td>\n",
       "      <td>-0.092909</td>\n",
       "      <td>-0.087307</td>\n",
       "      <td>1.000000</td>\n",
       "      <td>-0.142569</td>\n",
       "      <td>-0.133345</td>\n",
       "      <td>-0.002608</td>\n",
       "    </tr>\n",
       "    <tr>\n",
       "      <th>distance</th>\n",
       "      <td>0.839793</td>\n",
       "      <td>0.007143</td>\n",
       "      <td>0.039282</td>\n",
       "      <td>0.046943</td>\n",
       "      <td>-0.142569</td>\n",
       "      <td>1.000000</td>\n",
       "      <td>-0.058547</td>\n",
       "      <td>0.006306</td>\n",
       "    </tr>\n",
       "    <tr>\n",
       "      <th>tripPerHour</th>\n",
       "      <td>0.006042</td>\n",
       "      <td>0.017930</td>\n",
       "      <td>0.024704</td>\n",
       "      <td>-0.037045</td>\n",
       "      <td>-0.133345</td>\n",
       "      <td>-0.058547</td>\n",
       "      <td>1.000000</td>\n",
       "      <td>-0.095899</td>\n",
       "    </tr>\n",
       "    <tr>\n",
       "      <th>holiday</th>\n",
       "      <td>-0.011842</td>\n",
       "      <td>0.004725</td>\n",
       "      <td>-0.086888</td>\n",
       "      <td>-0.056646</td>\n",
       "      <td>-0.002608</td>\n",
       "      <td>0.006306</td>\n",
       "      <td>-0.095899</td>\n",
       "      <td>1.000000</td>\n",
       "    </tr>\n",
       "  </tbody>\n",
       "</table>\n",
       "</div>"
      ],
      "text/plain": [
       "                 fare_amount  passenger_count   weekday   weekend  day_night  \\\n",
       "fare_amount         1.000000         0.012281  0.010500 -0.003992  -0.038432   \n",
       "passenger_count     0.012281         1.000000  0.026312  0.029125  -0.023111   \n",
       "weekday             0.010500         0.026312  1.000000  0.786019  -0.092909   \n",
       "weekend            -0.003992         0.029125  0.786019  1.000000  -0.087307   \n",
       "day_night          -0.038432        -0.023111 -0.092909 -0.087307   1.000000   \n",
       "distance            0.839793         0.007143  0.039282  0.046943  -0.142569   \n",
       "tripPerHour         0.006042         0.017930  0.024704 -0.037045  -0.133345   \n",
       "holiday            -0.011842         0.004725 -0.086888 -0.056646  -0.002608   \n",
       "\n",
       "                 distance  tripPerHour   holiday  \n",
       "fare_amount      0.839793     0.006042 -0.011842  \n",
       "passenger_count  0.007143     0.017930  0.004725  \n",
       "weekday          0.039282     0.024704 -0.086888  \n",
       "weekend          0.046943    -0.037045 -0.056646  \n",
       "day_night       -0.142569    -0.133345 -0.002608  \n",
       "distance         1.000000    -0.058547  0.006306  \n",
       "tripPerHour     -0.058547     1.000000 -0.095899  \n",
       "holiday          0.006306    -0.095899  1.000000  "
      ]
     },
     "execution_count": 117,
     "metadata": {},
     "output_type": "execute_result"
    }
   ],
   "source": [
    "data_cleaned.corr()"
   ]
  },
  {
   "cell_type": "code",
   "execution_count": 118,
   "metadata": {},
   "outputs": [
    {
     "data": {
      "text/html": [
       "<div>\n",
       "<style scoped>\n",
       "    .dataframe tbody tr th:only-of-type {\n",
       "        vertical-align: middle;\n",
       "    }\n",
       "\n",
       "    .dataframe tbody tr th {\n",
       "        vertical-align: top;\n",
       "    }\n",
       "\n",
       "    .dataframe thead th {\n",
       "        text-align: right;\n",
       "    }\n",
       "</style>\n",
       "<table border=\"1\" class=\"dataframe\">\n",
       "  <thead>\n",
       "    <tr style=\"text-align: right;\">\n",
       "      <th></th>\n",
       "      <th>Unnamed: 0</th>\n",
       "      <th>fare_amount</th>\n",
       "      <th>passenger_count</th>\n",
       "      <th>weekday</th>\n",
       "      <th>weekend</th>\n",
       "      <th>day_night</th>\n",
       "      <th>distance</th>\n",
       "      <th>tripPerHour</th>\n",
       "      <th>holiday</th>\n",
       "    </tr>\n",
       "  </thead>\n",
       "  <tbody>\n",
       "    <tr>\n",
       "      <th>Unnamed: 0</th>\n",
       "      <td>1.000000</td>\n",
       "      <td>0.014078</td>\n",
       "      <td>-0.004976</td>\n",
       "      <td>0.005083</td>\n",
       "      <td>0.007818</td>\n",
       "      <td>-0.004814</td>\n",
       "      <td>0.028034</td>\n",
       "      <td>-0.291350</td>\n",
       "      <td>0.035355</td>\n",
       "    </tr>\n",
       "    <tr>\n",
       "      <th>fare_amount</th>\n",
       "      <td>0.014078</td>\n",
       "      <td>1.000000</td>\n",
       "      <td>0.017224</td>\n",
       "      <td>-0.003303</td>\n",
       "      <td>-0.012789</td>\n",
       "      <td>0.007452</td>\n",
       "      <td>0.910132</td>\n",
       "      <td>-0.046581</td>\n",
       "      <td>0.000660</td>\n",
       "    </tr>\n",
       "    <tr>\n",
       "      <th>passenger_count</th>\n",
       "      <td>-0.004976</td>\n",
       "      <td>0.017224</td>\n",
       "      <td>1.000000</td>\n",
       "      <td>0.025301</td>\n",
       "      <td>0.028032</td>\n",
       "      <td>-0.020596</td>\n",
       "      <td>0.013715</td>\n",
       "      <td>0.016732</td>\n",
       "      <td>0.004828</td>\n",
       "    </tr>\n",
       "    <tr>\n",
       "      <th>weekday</th>\n",
       "      <td>0.005083</td>\n",
       "      <td>-0.003303</td>\n",
       "      <td>0.025301</td>\n",
       "      <td>1.000000</td>\n",
       "      <td>0.785597</td>\n",
       "      <td>-0.090297</td>\n",
       "      <td>0.014830</td>\n",
       "      <td>0.023526</td>\n",
       "      <td>-0.087643</td>\n",
       "    </tr>\n",
       "    <tr>\n",
       "      <th>weekend</th>\n",
       "      <td>0.007818</td>\n",
       "      <td>-0.012789</td>\n",
       "      <td>0.028032</td>\n",
       "      <td>0.785597</td>\n",
       "      <td>1.000000</td>\n",
       "      <td>-0.085627</td>\n",
       "      <td>0.017852</td>\n",
       "      <td>-0.039176</td>\n",
       "      <td>-0.055918</td>\n",
       "    </tr>\n",
       "    <tr>\n",
       "      <th>day_night</th>\n",
       "      <td>-0.004814</td>\n",
       "      <td>0.007452</td>\n",
       "      <td>-0.020596</td>\n",
       "      <td>-0.090297</td>\n",
       "      <td>-0.085627</td>\n",
       "      <td>1.000000</td>\n",
       "      <td>-0.059696</td>\n",
       "      <td>-0.125827</td>\n",
       "      <td>-0.002370</td>\n",
       "    </tr>\n",
       "    <tr>\n",
       "      <th>distance</th>\n",
       "      <td>0.028034</td>\n",
       "      <td>0.910132</td>\n",
       "      <td>0.013715</td>\n",
       "      <td>0.014830</td>\n",
       "      <td>0.017852</td>\n",
       "      <td>-0.059696</td>\n",
       "      <td>1.000000</td>\n",
       "      <td>-0.079200</td>\n",
       "      <td>0.010559</td>\n",
       "    </tr>\n",
       "    <tr>\n",
       "      <th>tripPerHour</th>\n",
       "      <td>-0.291350</td>\n",
       "      <td>-0.046581</td>\n",
       "      <td>0.016732</td>\n",
       "      <td>0.023526</td>\n",
       "      <td>-0.039176</td>\n",
       "      <td>-0.125827</td>\n",
       "      <td>-0.079200</td>\n",
       "      <td>1.000000</td>\n",
       "      <td>-0.095413</td>\n",
       "    </tr>\n",
       "    <tr>\n",
       "      <th>holiday</th>\n",
       "      <td>0.035355</td>\n",
       "      <td>0.000660</td>\n",
       "      <td>0.004828</td>\n",
       "      <td>-0.087643</td>\n",
       "      <td>-0.055918</td>\n",
       "      <td>-0.002370</td>\n",
       "      <td>0.010559</td>\n",
       "      <td>-0.095413</td>\n",
       "      <td>1.000000</td>\n",
       "    </tr>\n",
       "  </tbody>\n",
       "</table>\n",
       "</div>"
      ],
      "text/plain": [
       "                 Unnamed: 0  fare_amount  passenger_count   weekday   weekend  \\\n",
       "Unnamed: 0         1.000000     0.014078        -0.004976  0.005083  0.007818   \n",
       "fare_amount        0.014078     1.000000         0.017224 -0.003303 -0.012789   \n",
       "passenger_count   -0.004976     0.017224         1.000000  0.025301  0.028032   \n",
       "weekday            0.005083    -0.003303         0.025301  1.000000  0.785597   \n",
       "weekend            0.007818    -0.012789         0.028032  0.785597  1.000000   \n",
       "day_night         -0.004814     0.007452        -0.020596 -0.090297 -0.085627   \n",
       "distance           0.028034     0.910132         0.013715  0.014830  0.017852   \n",
       "tripPerHour       -0.291350    -0.046581         0.016732  0.023526 -0.039176   \n",
       "holiday            0.035355     0.000660         0.004828 -0.087643 -0.055918   \n",
       "\n",
       "                 day_night  distance  tripPerHour   holiday  \n",
       "Unnamed: 0       -0.004814  0.028034    -0.291350  0.035355  \n",
       "fare_amount       0.007452  0.910132    -0.046581  0.000660  \n",
       "passenger_count  -0.020596  0.013715     0.016732  0.004828  \n",
       "weekday          -0.090297  0.014830     0.023526 -0.087643  \n",
       "weekend          -0.085627  0.017852    -0.039176 -0.055918  \n",
       "day_night         1.000000 -0.059696    -0.125827 -0.002370  \n",
       "distance         -0.059696  1.000000    -0.079200  0.010559  \n",
       "tripPerHour      -0.125827 -0.079200     1.000000 -0.095413  \n",
       "holiday          -0.002370  0.010559    -0.095413  1.000000  "
      ]
     },
     "execution_count": 118,
     "metadata": {},
     "output_type": "execute_result"
    }
   ],
   "source": [
    "data.corr()"
   ]
  },
  {
   "cell_type": "code",
   "execution_count": 45,
   "metadata": {},
   "outputs": [
    {
     "data": {
      "text/plain": [
       "<matplotlib.collections.PathCollection at 0x11589bc88>"
      ]
     },
     "execution_count": 45,
     "metadata": {},
     "output_type": "execute_result"
    },
    {
     "data": {
      "image/png": "[encoded data removed]",
      "text/plain": [
       "<Figure size 720x432 with 1 Axes>"
      ]
     },
     "metadata": {
      "needs_background": "light"
     },
     "output_type": "display_data"
    }
   ],
   "source": [
    "plt.figure(figsize=(10, 6))\n",
    "plt.grid(b=True)\n",
    "plt.scatter(data_cleaned.distance, data_cleaned.fare_amount)"
   ]
  },
  {
   "cell_type": "code",
   "execution_count": 34,
   "metadata": {},
   "outputs": [
    {
     "name": "stderr",
     "output_type": "stream",
     "text": [
      "/anaconda3/lib/python3.6/site-packages/matplotlib/axes/_axes.py:6521: MatplotlibDeprecationWarning: \n",
      "The 'normed' kwarg was deprecated in Matplotlib 2.1 and will be removed in 3.1. Use 'density' instead.\n",
      "  alternative=\"'density'\", removal=\"3.1\")\n"
     ]
    },
    {
     "data": {
      "image/png": "[encoded data removed]",
      "text/plain": [
       "<Figure size 432x288 with 1 Axes>"
      ]
     },
     "metadata": {
      "needs_background": "light"
     },
     "output_type": "display_data"
    }
   ],
   "source": [
    "n, bins, patches = plt.hist(data_cleaned.fare_amount, 50, normed=1, facecolor='green', alpha=0.75)"
   ]
  },
  {
   "cell_type": "code",
   "execution_count": 5,
   "metadata": {},
   "outputs": [],
   "source": [
    "n1 = list(i.split(',')[0][2:-1] for i in data_cleaned.neighborhood)\n",
    "n2 = list(i.split(',')[1][2:-2] for i in data_cleaned.neighborhood)\n",
    "data_cleaned['pickup_neighbor'] = n1\n",
    "data_cleaned['dropoff_neighbor'] = n2"
   ]
  },
  {
   "cell_type": "code",
   "execution_count": 6,
   "metadata": {},
   "outputs": [
    {
     "data": {
      "text/html": [
       "<div>\n",
       "<style scoped>\n",
       "    .dataframe tbody tr th:only-of-type {\n",
       "        vertical-align: middle;\n",
       "    }\n",
       "\n",
       "    .dataframe tbody tr th {\n",
       "        vertical-align: top;\n",
       "    }\n",
       "\n",
       "    .dataframe thead th {\n",
       "        text-align: right;\n",
       "    }\n",
       "</style>\n",
       "<table border=\"1\" class=\"dataframe\">\n",
       "  <thead>\n",
       "    <tr style=\"text-align: right;\">\n",
       "      <th></th>\n",
       "      <th>fare_amount</th>\n",
       "      <th>passenger_count</th>\n",
       "      <th>weekday</th>\n",
       "      <th>weekend</th>\n",
       "      <th>day_night</th>\n",
       "      <th>distance</th>\n",
       "      <th>tripPerHour</th>\n",
       "      <th>holiday</th>\n",
       "      <th>neighborhood</th>\n",
       "      <th>datekey</th>\n",
       "      <th>pickup_neighbor</th>\n",
       "      <th>dropoff_neighbor</th>\n",
       "    </tr>\n",
       "  </thead>\n",
       "  <tbody>\n",
       "    <tr>\n",
       "      <th>0</th>\n",
       "      <td>12.5</td>\n",
       "      <td>1</td>\n",
       "      <td>2</td>\n",
       "      <td>0</td>\n",
       "      <td>1</td>\n",
       "      <td>1.619554</td>\n",
       "      <td>1066</td>\n",
       "      <td>0</td>\n",
       "      <td>('Theater District', 'Gramercy')</td>\n",
       "      <td>2014-02-19-07</td>\n",
       "      <td>Theater District</td>\n",
       "      <td>Gramercy</td>\n",
       "    </tr>\n",
       "    <tr>\n",
       "      <th>1</th>\n",
       "      <td>10.5</td>\n",
       "      <td>1</td>\n",
       "      <td>2</td>\n",
       "      <td>0</td>\n",
       "      <td>1</td>\n",
       "      <td>1.789184</td>\n",
       "      <td>1066</td>\n",
       "      <td>0</td>\n",
       "      <td>('Upper East Side', 'Murray Hill')</td>\n",
       "      <td>2014-02-19-07</td>\n",
       "      <td>Upper East Side</td>\n",
       "      <td>Murray Hill</td>\n",
       "    </tr>\n",
       "    <tr>\n",
       "      <th>2</th>\n",
       "      <td>8.0</td>\n",
       "      <td>1</td>\n",
       "      <td>2</td>\n",
       "      <td>0</td>\n",
       "      <td>1</td>\n",
       "      <td>1.697914</td>\n",
       "      <td>1066</td>\n",
       "      <td>0</td>\n",
       "      <td>('Gramercy', 'Midtown')</td>\n",
       "      <td>2014-02-19-07</td>\n",
       "      <td>Gramercy</td>\n",
       "      <td>Midtown</td>\n",
       "    </tr>\n",
       "    <tr>\n",
       "      <th>3</th>\n",
       "      <td>20.5</td>\n",
       "      <td>2</td>\n",
       "      <td>2</td>\n",
       "      <td>0</td>\n",
       "      <td>1</td>\n",
       "      <td>1.720657</td>\n",
       "      <td>1066</td>\n",
       "      <td>0</td>\n",
       "      <td>('Upper East Side', 'Midtown')</td>\n",
       "      <td>2014-02-19-07</td>\n",
       "      <td>Upper East Side</td>\n",
       "      <td>Midtown</td>\n",
       "    </tr>\n",
       "    <tr>\n",
       "      <th>4</th>\n",
       "      <td>25.0</td>\n",
       "      <td>1</td>\n",
       "      <td>2</td>\n",
       "      <td>0</td>\n",
       "      <td>1</td>\n",
       "      <td>4.554564</td>\n",
       "      <td>1066</td>\n",
       "      <td>0</td>\n",
       "      <td>('Upper East Side', 'Battery Park City')</td>\n",
       "      <td>2014-02-19-07</td>\n",
       "      <td>Upper East Side</td>\n",
       "      <td>Battery Park City</td>\n",
       "    </tr>\n",
       "  </tbody>\n",
       "</table>\n",
       "</div>"
      ],
      "text/plain": [
       "   fare_amount  passenger_count  weekday  weekend  day_night  distance  \\\n",
       "0         12.5                1        2        0          1  1.619554   \n",
       "1         10.5                1        2        0          1  1.789184   \n",
       "2          8.0                1        2        0          1  1.697914   \n",
       "3         20.5                2        2        0          1  1.720657   \n",
       "4         25.0                1        2        0          1  4.554564   \n",
       "\n",
       "   tripPerHour  holiday                              neighborhood  \\\n",
       "0         1066        0          ('Theater District', 'Gramercy')   \n",
       "1         1066        0        ('Upper East Side', 'Murray Hill')   \n",
       "2         1066        0                   ('Gramercy', 'Midtown')   \n",
       "3         1066        0            ('Upper East Side', 'Midtown')   \n",
       "4         1066        0  ('Upper East Side', 'Battery Park City')   \n",
       "\n",
       "         datekey   pickup_neighbor   dropoff_neighbor  \n",
       "0  2014-02-19-07  Theater District           Gramercy  \n",
       "1  2014-02-19-07   Upper East Side        Murray Hill  \n",
       "2  2014-02-19-07          Gramercy            Midtown  \n",
       "3  2014-02-19-07   Upper East Side            Midtown  \n",
       "4  2014-02-19-07   Upper East Side  Battery Park City  "
      ]
     },
     "execution_count": 6,
     "metadata": {},
     "output_type": "execute_result"
    }
   ],
   "source": [
    "data_cleaned.head()"
   ]
  },
  {
   "cell_type": "code",
   "execution_count": 6,
   "metadata": {},
   "outputs": [],
   "source": [
    "data_cleaned = data_cleaned[['fare_amount', 'passenger_count', 'weekday', 'weekend', 'day_night', 'distance', 'tripPerHour',\n",
    "                            'holiday', 'datekey', 'pickup_neighbor', 'dropoff_neighbor']]"
   ]
  },
  {
   "cell_type": "code",
   "execution_count": 7,
   "metadata": {},
   "outputs": [
    {
     "data": {
      "text/plain": [
       "(7344356, 11)"
      ]
     },
     "execution_count": 7,
     "metadata": {},
     "output_type": "execute_result"
    }
   ],
   "source": [
    "data_cleaned.shape"
   ]
  },
  {
   "cell_type": "code",
   "execution_count": 11,
   "metadata": {},
   "outputs": [],
   "source": [
    "# linear regression \n",
    "from sklearn.linear_model import LinearRegression\n",
    "from sklearn.metrics import r2_score\n",
    "X, Y = data_cleaned.distance, data_cleaned.fare_amount\n",
    "train_x, train_y = np.array(X[:7300000]).reshape(-1,1), Y[:7300000]\n",
    "test_x, test_y = np.array(X[7300000:]).reshape(-1,1), Y[7300000:]"
   ]
  },
  {
   "cell_type": "code",
   "execution_count": 12,
   "metadata": {},
   "outputs": [
    {
     "name": "stdout",
     "output_type": "stream",
     "text": [
      "0.7186903554501782\n"
     ]
    }
   ],
   "source": [
    "reg = LinearRegression().fit(train_x, train_y)\n",
    "pred = reg.predict(test_x)\n",
    "print(reg.score(test_x, test_y))"
   ]
  },
  {
   "cell_type": "code",
   "execution_count": 13,
   "metadata": {},
   "outputs": [
    {
     "name": "stdout",
     "output_type": "stream",
     "text": [
      "0.7255069607482356\n"
     ]
    }
   ],
   "source": [
    "# lasso\n",
    "from sklearn import linear_model\n",
    "clf = linear_model.Lasso(alpha=0.1).fit(train_x, train_y)\n",
    "print(clf.score(test_x, test_y))"
   ]
  },
  {
   "cell_type": "code",
   "execution_count": 9,
   "metadata": {},
   "outputs": [
    {
     "data": {
      "text/html": [
       "<div>\n",
       "<style scoped>\n",
       "    .dataframe tbody tr th:only-of-type {\n",
       "        vertical-align: middle;\n",
       "    }\n",
       "\n",
       "    .dataframe tbody tr th {\n",
       "        vertical-align: top;\n",
       "    }\n",
       "\n",
       "    .dataframe thead th {\n",
       "        text-align: right;\n",
       "    }\n",
       "</style>\n",
       "<table border=\"1\" class=\"dataframe\">\n",
       "  <thead>\n",
       "    <tr style=\"text-align: right;\">\n",
       "      <th></th>\n",
       "      <th>fare_amount</th>\n",
       "      <th>passenger_count</th>\n",
       "      <th>weekday</th>\n",
       "      <th>weekend</th>\n",
       "      <th>day_night</th>\n",
       "      <th>distance</th>\n",
       "      <th>tripPerHour</th>\n",
       "      <th>holiday</th>\n",
       "      <th>datekey</th>\n",
       "      <th>pickup_neighbor</th>\n",
       "      <th>dropoff_neighbor</th>\n",
       "    </tr>\n",
       "  </thead>\n",
       "  <tbody>\n",
       "    <tr>\n",
       "      <th>0</th>\n",
       "      <td>12.5</td>\n",
       "      <td>1</td>\n",
       "      <td>2</td>\n",
       "      <td>0</td>\n",
       "      <td>1</td>\n",
       "      <td>1.619554</td>\n",
       "      <td>1066</td>\n",
       "      <td>0</td>\n",
       "      <td>1183</td>\n",
       "      <td>201</td>\n",
       "      <td>97</td>\n",
       "    </tr>\n",
       "    <tr>\n",
       "      <th>1</th>\n",
       "      <td>10.5</td>\n",
       "      <td>1</td>\n",
       "      <td>2</td>\n",
       "      <td>0</td>\n",
       "      <td>1</td>\n",
       "      <td>1.789184</td>\n",
       "      <td>1066</td>\n",
       "      <td>0</td>\n",
       "      <td>1183</td>\n",
       "      <td>210</td>\n",
       "      <td>147</td>\n",
       "    </tr>\n",
       "    <tr>\n",
       "      <th>2</th>\n",
       "      <td>8.0</td>\n",
       "      <td>1</td>\n",
       "      <td>2</td>\n",
       "      <td>0</td>\n",
       "      <td>1</td>\n",
       "      <td>1.697914</td>\n",
       "      <td>1066</td>\n",
       "      <td>0</td>\n",
       "      <td>1183</td>\n",
       "      <td>97</td>\n",
       "      <td>137</td>\n",
       "    </tr>\n",
       "    <tr>\n",
       "      <th>3</th>\n",
       "      <td>20.5</td>\n",
       "      <td>2</td>\n",
       "      <td>2</td>\n",
       "      <td>0</td>\n",
       "      <td>1</td>\n",
       "      <td>1.720657</td>\n",
       "      <td>1066</td>\n",
       "      <td>0</td>\n",
       "      <td>1183</td>\n",
       "      <td>210</td>\n",
       "      <td>137</td>\n",
       "    </tr>\n",
       "    <tr>\n",
       "      <th>4</th>\n",
       "      <td>25.0</td>\n",
       "      <td>1</td>\n",
       "      <td>2</td>\n",
       "      <td>0</td>\n",
       "      <td>1</td>\n",
       "      <td>4.554564</td>\n",
       "      <td>1066</td>\n",
       "      <td>0</td>\n",
       "      <td>1183</td>\n",
       "      <td>210</td>\n",
       "      <td>5</td>\n",
       "    </tr>\n",
       "  </tbody>\n",
       "</table>\n",
       "</div>"
      ],
      "text/plain": [
       "   fare_amount  passenger_count  weekday  weekend  day_night  distance  \\\n",
       "0         12.5                1        2        0          1  1.619554   \n",
       "1         10.5                1        2        0          1  1.789184   \n",
       "2          8.0                1        2        0          1  1.697914   \n",
       "3         20.5                2        2        0          1  1.720657   \n",
       "4         25.0                1        2        0          1  4.554564   \n",
       "\n",
       "   tripPerHour  holiday  datekey  pickup_neighbor  dropoff_neighbor  \n",
       "0         1066        0     1183              201                97  \n",
       "1         1066        0     1183              210               147  \n",
       "2         1066        0     1183               97               137  \n",
       "3         1066        0     1183              210               137  \n",
       "4         1066        0     1183              210                 5  "
      ]
     },
     "execution_count": 9,
     "metadata": {},
     "output_type": "execute_result"
    }
   ],
   "source": [
    "# decision tree\n",
    "from sklearn import preprocessing\n",
    "le = preprocessing.LabelEncoder()\n",
    "data_cleaned['datekey'] = le.fit_transform(data_cleaned.datekey)\n",
    "data_cleaned['pickup_neighbor'] = le.fit_transform(data_cleaned.pickup_neighbor)\n",
    "data_cleaned['dropoff_neighbor'] = le.fit_transform(data_cleaned.dropoff_neighbor)\n",
    "data_cleaned.head()"
   ]
  },
  {
   "cell_type": "code",
   "execution_count": 17,
   "metadata": {},
   "outputs": [
    {
     "data": {
      "text/plain": [
       "0.7008260726199007"
      ]
     },
     "execution_count": 17,
     "metadata": {},
     "output_type": "execute_result"
    }
   ],
   "source": [
    "from sklearn import tree\n",
    "clf = tree.DecisionTreeRegressor()\n",
    "X, Y = data_cleaned[data_cleaned.columns[1:]], data_cleaned.fare_amount\n",
    "train_x, train_y = X[:7300000], Y[:7300000]\n",
    "test_x, test_y = X[7300000:], Y[7300000:]\n",
    "clf = clf.fit(train_x, train_y)\n",
    "clf.score(test_x, test_y)"
   ]
  },
  {
   "cell_type": "code",
   "execution_count": 24,
   "metadata": {},
   "outputs": [
    {
     "data": {
      "text/plain": [
       "0.7124593745134042"
      ]
     },
     "execution_count": 24,
     "metadata": {},
     "output_type": "execute_result"
    }
   ],
   "source": [
    "# ensemble method\n",
    "from sklearn.ensemble import RandomForestRegressor\n",
    "X, Y = data_cleaned[data_cleaned.columns[1:]], data_cleaned.fare_amount\n",
    "train_x, train_y = X[:7300000], Y[:7300000]\n",
    "test_x, test_y = X[7300000:], Y[7300000:]\n",
    "regr = RandomForestRegressor(max_depth=2, random_state=0, n_estimators=100)\n",
    "regr.fit(train_x, train_y)\n",
    "regr.score(test_x, test_y)"
   ]
  },
  {
   "cell_type": "code",
   "execution_count": null,
   "metadata": {},
   "outputs": [],
   "source": []
  }
 ],
 "metadata": {
  "kernelspec": {
   "display_name": "Python 3",
   "language": "python",
   "name": "python3"
  },
  "language_info": {
   "codemirror_mode": {
    "name": "ipython",
    "version": 3
   },
   "file_extension": ".py",
   "mimetype": "text/x-python",
   "name": "python",
   "nbconvert_exporter": "python",
   "pygments_lexer": "ipython3",
   "version": "3.6.8"
  }
 },
 "nbformat": 4,
 "nbformat_minor": 2
}
